{
 "cells": [
  {
   "cell_type": "code",
   "execution_count": 4,
   "metadata": {},
   "outputs": [
    {
     "name": "stdout",
     "output_type": "stream",
     "text": [
      "2\n"
     ]
    }
   ],
   "source": [
    "a = 1\n",
    "b = 0\n",
    "c = a & b\n",
    "d = a | b\n",
    "e = a ^ b\n",
    "\n",
    "print(c + d + e)\n",
    "\n"
   ]
  },
  {
   "cell_type": "code",
   "execution_count": 9,
   "metadata": {},
   "outputs": [
    {
     "name": "stdout",
     "output_type": "stream",
     "text": [
      "1\n"
     ]
    }
   ],
   "source": [
    "my_list = [3, 1, -2]\n",
    "new_var = -1\n",
    "print(my_list[my_list[new_var]])\n"
   ]
  },
  {
   "cell_type": "code",
   "execution_count": 10,
   "metadata": {},
   "outputs": [
    {
     "name": "stdout",
     "output_type": "stream",
     "text": [
      "[2]\n"
     ]
    }
   ],
   "source": [
    "my_list = [1, 2, 3, 4]\n",
    "print(my_list[-3:-2])\n",
    "\n"
   ]
  },
  {
   "cell_type": "code",
   "execution_count": null,
   "metadata": {},
   "outputs": [],
   "source": [
    "my_list = [1, 2, 3]\n",
    "for v in my_list:\n",
    "    my_list.insert(1, my_list[v])\n",
    "    print(my_list)\n",
    "print(my_list)\n",
    "\n"
   ]
  },
  {
   "cell_type": "code",
   "execution_count": 17,
   "metadata": {},
   "outputs": [
    {
     "name": "stdout",
     "output_type": "stream",
     "text": [
      "6\n"
     ]
    }
   ],
   "source": [
    "t = [[3-i for i in range (3)] for j in range (3)]\n",
    "s = 0\n",
    "for i in range(3):\n",
    "    s += t[i][i]\n",
    "print(s)"
   ]
  },
  {
   "cell_type": "code",
   "execution_count": 19,
   "metadata": {},
   "outputs": [
    {
     "name": "stdout",
     "output_type": "stream",
     "text": [
      "#\n",
      "#\n",
      "#\n",
      "#\n"
     ]
    }
   ],
   "source": [
    "var = 1\n",
    "while var < 10:\n",
    "    print(\"#\")\n",
    "    var = var << 1\n"
   ]
  },
  {
   "cell_type": "code",
   "execution_count": 3,
   "metadata": {},
   "outputs": [
    {
     "ename": "TypeError",
     "evalue": "unsupported operand type(s) for +: 'NoneType' and 'int'",
     "output_type": "error",
     "traceback": [
      "\u001b[1;31m---------------------------------------------------------------------------\u001b[0m",
      "\u001b[1;31mTypeError\u001b[0m                                 Traceback (most recent call last)",
      "\u001b[1;32mc:\\Users\\Usuario\\Documents\\Programación\\Python Scripts\\comprobaciones.ipynb Cell 7\u001b[0m line \u001b[0;36m8\n\u001b[0;32m      <a href='vscode-notebook-cell:/c%3A/Users/Usuario/Documents/Programaci%C3%B3n/Python%20Scripts/comprobaciones.ipynb#W6sZmlsZQ%3D%3D?line=3'>4</a>\u001b[0m     \u001b[39melse\u001b[39;00m:\n\u001b[0;32m      <a href='vscode-notebook-cell:/c%3A/Users/Usuario/Documents/Programaci%C3%B3n/Python%20Scripts/comprobaciones.ipynb#W6sZmlsZQ%3D%3D?line=4'>5</a>\u001b[0m         \u001b[39mreturn\u001b[39;00m\n\u001b[1;32m----> <a href='vscode-notebook-cell:/c%3A/Users/Usuario/Documents/Programaci%C3%B3n/Python%20Scripts/comprobaciones.ipynb#W6sZmlsZQ%3D%3D?line=7'>8</a>\u001b[0m \u001b[39mprint\u001b[39m(fun(fun(\u001b[39m2\u001b[39;49m)) \u001b[39m+\u001b[39;49m \u001b[39m1\u001b[39;49m)\n",
      "\u001b[1;31mTypeError\u001b[0m: unsupported operand type(s) for +: 'NoneType' and 'int'"
     ]
    }
   ],
   "source": [
    "def fun(x):\n",
    "    if x % 2 == 0:\n",
    "        return 1\n",
    "    else:\n",
    "        return\n",
    "\n",
    "\n",
    "print(fun(fun(2)) + 1)\n",
    "\n",
    "\n"
   ]
  },
  {
   "cell_type": "code",
   "execution_count": 4,
   "metadata": {},
   "outputs": [
    {
     "name": "stdout",
     "output_type": "stream",
     "text": [
      "4\n"
     ]
    }
   ],
   "source": [
    "def fun(x):\n",
    "    global y\n",
    "    y = x * x\n",
    "    return y\n",
    " \n",
    " \n",
    "fun(2)\n",
    "print(y)"
   ]
  },
  {
   "cell_type": "code",
   "execution_count": 5,
   "metadata": {},
   "outputs": [
    {
     "name": "stdout",
     "output_type": "stream",
     "text": [
      "9\n"
     ]
    }
   ],
   "source": [
    "def fun(x, y, z):\n",
    "    return x + 2 * y + 3 * z\n",
    " \n",
    " \n",
    "print(fun(0, z=1, y=3))"
   ]
  },
  {
   "cell_type": "code",
   "execution_count": 6,
   "metadata": {},
   "outputs": [
    {
     "name": "stdout",
     "output_type": "stream",
     "text": [
      "two\n"
     ]
    }
   ],
   "source": [
    "dictionary = {'one': 'two', 'three': 'one', 'two': 'three'}\n",
    "v = dictionary['one']\n",
    " \n",
    "for k in range(len(dictionary)):\n",
    "    v = dictionary[v]\n",
    " \n",
    "print(v)"
   ]
  },
  {
   "cell_type": "code",
   "execution_count": 7,
   "metadata": {},
   "outputs": [
    {
     "name": "stdout",
     "output_type": "stream",
     "text": [
      "2\n"
     ]
    }
   ],
   "source": [
    "tup = (1, 2, 4, 8)\n",
    "tup = tup[1:-1]\n",
    "tup = tup[0]\n",
    "print(tup)"
   ]
  },
  {
   "cell_type": "code",
   "execution_count": 8,
   "metadata": {},
   "outputs": [],
   "source": [
    "try:\n",
    "    value = input(\"Ingresa un valor: \")\n",
    "    print(value/value)\n",
    "except ValueError:\n",
    "    print(\"Entrada incorrecta...\")\n",
    "except ZeroDivisionError:\n",
    "    print(\"Entrada errónea...\")\n",
    "except TypeError:\n",
    "    print(\"Entrada muy errónea...\")\n",
    "except:\n",
    "    print(\"¡Buuu!\")\n",
    "\n"
   ]
  },
  {
   "cell_type": "code",
   "execution_count": 1,
   "metadata": {},
   "outputs": [
    {
     "name": "stdout",
     "output_type": "stream",
     "text": [
      " +-----+-----+-----+\n",
      " |  1  |  2  |  3  | \n",
      " +-----+-----+-----+\n",
      " |  4  |  5  |  6  | \n",
      " +-----+-----+-----+\n",
      " |  7  |  8  |  9  | \n",
      " +-----+-----+-----+\n",
      "No mames pon algo que sirva\n",
      " +-----+-----+-----+\n",
      " |  1  |  2  |  3  | \n",
      " +-----+-----+-----+\n",
      " |  4  |  5  |  6  | \n",
      " +-----+-----+-----+\n",
      " |  7  |  8  |  9  | \n",
      " +-----+-----+-----+\n",
      "Gracias por jugar!!\n",
      " +-----+-----+-----+\n",
      " |  1  |  2  |  3  | \n",
      " +-----+-----+-----+\n",
      " |  4  |  5  |  6  | \n",
      " +-----+-----+-----+\n",
      " |  7  |  8  |  9  | \n",
      " +-----+-----+-----+\n"
     ]
    }
   ],
   "source": [
    "import time\n",
    "import sys\n",
    "board=[[1,2,3],\n",
    "       [4,5,6],\n",
    "       [7,8,9]\n",
    "]\n",
    "def print_board(board):\n",
    "    print(\" +-----+-----+-----+\")\n",
    "    print(\" | \",board[0][0],\" | \",board[0][1],\" | \",board[0][2],\" | \")\n",
    "    print(\" +-----+-----+-----+\")\n",
    "    print(\" | \",board[1][0],\" | \",board[1][1],\" | \",board[1][2],\" | \")\n",
    "    print(\" +-----+-----+-----+\")\n",
    "    print(\" | \",board[2][0],\" | \",board[2][1],\" | \",board[2][2],\" | \")\n",
    "    print(\" +-----+-----+-----+\")\n",
    "\n",
    "num_entered = 0\n",
    "\n",
    "def input_filter():\n",
    "    num_entered = input(\"Ingrese el número: \")\n",
    "    if num_entered.isnumeric():\n",
    "        num_entered = int(num_entered)\n",
    "        return num_entered\n",
    "    elif num_entered == \"cancelar\":\n",
    "        print(\"Gracias por jugar!!\")\n",
    "        num_entered = \"F\"\n",
    "        return num_entered\n",
    "    else:\n",
    "        print(\"No mames pon algo que sirva\")\n",
    "\n",
    "        return None\n",
    "\n",
    "       \n",
    "def num(num_entered):\n",
    "    if num_entered == 1:\n",
    "        board[0][0]=\"X\"\n",
    "    elif num_entered == 2:\n",
    "        board[0][1]=\"X\"\n",
    "    elif num_entered == 3:\n",
    "        board[0][2]=\"X\"\n",
    "    elif num_entered == 4:\n",
    "        board[1][0]=\"X\"\n",
    "    elif num_entered == 5:\n",
    "        board[1][1]=\"X\"\n",
    "    elif num_entered == 6:\n",
    "        board[1][2]=\"X\"\n",
    "    elif num_entered == 7:\n",
    "        board[2][0]=\"X\"\n",
    "    elif num_entered == 8:\n",
    "        board[2][1]=\"X\"\n",
    "    elif num_entered == 9:\n",
    "        board[2][2]=\"X\"\n",
    "    elif num_entered == \"F\":\n",
    "        return False\n",
    "\n",
    "print_board(board)\n",
    "while True:\n",
    "    num(input_filter())\n",
    "    print_board(board)\n"
   ]
  },
  {
   "cell_type": "code",
   "execution_count": 24,
   "metadata": {},
   "outputs": [
    {
     "ename": "TypeError",
     "evalue": "'int' object is not callable",
     "output_type": "error",
     "traceback": [
      "\u001b[1;31m---------------------------------------------------------------------------\u001b[0m",
      "\u001b[1;31mTypeError\u001b[0m                                 Traceback (most recent call last)",
      "\u001b[1;32mc:\\Users\\Usuario\\Documents\\Programación\\Python Scripts\\comprobaciones.ipynb Cell 14\u001b[0m line \u001b[0;36m5\n\u001b[0;32m      <a href='vscode-notebook-cell:/c%3A/Users/Usuario/Documents/Programaci%C3%B3n/Python%20Scripts/comprobaciones.ipynb#X16sZmlsZQ%3D%3D?line=2'>3</a>\u001b[0m \u001b[39mif\u001b[39;00m number\u001b[39m.\u001b[39misnumeric():\n\u001b[0;32m      <a href='vscode-notebook-cell:/c%3A/Users/Usuario/Documents/Programaci%C3%B3n/Python%20Scripts/comprobaciones.ipynb#X16sZmlsZQ%3D%3D?line=3'>4</a>\u001b[0m     time\u001b[39m.\u001b[39msleep(\u001b[39m10\u001b[39m)\n\u001b[1;32m----> <a href='vscode-notebook-cell:/c%3A/Users/Usuario/Documents/Programaci%C3%B3n/Python%20Scripts/comprobaciones.ipynb#X16sZmlsZQ%3D%3D?line=4'>5</a>\u001b[0m     \u001b[39mprint\u001b[39;49m(\u001b[39m\"\u001b[39;49m\u001b[39mThis is not a whole number!\u001b[39;49m\u001b[39m\"\u001b[39;49m)\n",
      "\u001b[1;31mTypeError\u001b[0m: 'int' object is not callable"
     ]
    }
   ],
   "source": [
    "import time\n",
    "number = input(\"Enter an integer: \")\n",
    "if number.isnumeric():\n",
    "    time.sleep(10)\n",
    "    print(\"This is not a whole number!\")"
   ]
  },
  {
   "cell_type": "code",
   "execution_count": 23,
   "metadata": {},
   "outputs": [
    {
     "name": "stdout",
     "output_type": "stream",
     "text": [
      "[7, 8, 2, 5, 4, 0]\n"
     ]
    }
   ],
   "source": [
    "import random\n",
    "randomList=[]\n",
    "for  i in range(9):\n",
    "    r = random.randint(0,8)\n",
    "    if r not in randomList:\n",
    "        randomList.append(r)\n",
    "print (randomList)"
   ]
  },
  {
   "cell_type": "code",
   "execution_count": 17,
   "metadata": {},
   "outputs": [
    {
     "data": {
      "text/plain": [
       "0"
      ]
     },
     "execution_count": 17,
     "metadata": {},
     "output_type": "execute_result"
    }
   ],
   "source": [
    "1//2"
   ]
  },
  {
   "cell_type": "code",
   "execution_count": null,
   "metadata": {},
   "outputs": [],
   "source": []
  },
  {
   "cell_type": "code",
   "execution_count": 22,
   "metadata": {},
   "outputs": [
    {
     "ename": "TypeError",
     "evalue": "'int' object is not callable",
     "output_type": "error",
     "traceback": [
      "\u001b[1;31m---------------------------------------------------------------------------\u001b[0m",
      "\u001b[1;31mTypeError\u001b[0m                                 Traceback (most recent call last)",
      "\u001b[1;32mc:\\Users\\Usuario\\Documents\\Programación\\Python Scripts\\comprobaciones.ipynb Cell 18\u001b[0m line \u001b[0;36m8\n\u001b[0;32m      <a href='vscode-notebook-cell:/c%3A/Users/Usuario/Documents/Programaci%C3%B3n/Python%20Scripts/comprobaciones.ipynb#X23sZmlsZQ%3D%3D?line=3'>4</a>\u001b[0m     \u001b[39melse\u001b[39;00m:\n\u001b[0;32m      <a href='vscode-notebook-cell:/c%3A/Users/Usuario/Documents/Programaci%C3%B3n/Python%20Scripts/comprobaciones.ipynb#X23sZmlsZQ%3D%3D?line=4'>5</a>\u001b[0m         \u001b[39mreturn\u001b[39;00m \u001b[39m2\u001b[39m\n\u001b[1;32m----> <a href='vscode-notebook-cell:/c%3A/Users/Usuario/Documents/Programaci%C3%B3n/Python%20Scripts/comprobaciones.ipynb#X23sZmlsZQ%3D%3D?line=7'>8</a>\u001b[0m \u001b[39mprint\u001b[39;49m(fun(fun(\u001b[39m2\u001b[39;49m)))\n",
      "\u001b[1;31mTypeError\u001b[0m: 'int' object is not callable"
     ]
    }
   ],
   "source": [
    "def fun(x):\n",
    "    if x % 2 == 0:\n",
    "        return 1\n",
    "    else:\n",
    "        return 2\n",
    " \n",
    " \n",
    "print(fun(fun(2)))"
   ]
  },
  {
   "cell_type": "code",
   "execution_count": 13,
   "metadata": {},
   "outputs": [],
   "source": [
    "nums = [1, 2, 3]\n",
    "vals = nums\n",
    "del vals[:]\n",
    " "
   ]
  },
  {
   "cell_type": "code",
   "execution_count": 5,
   "metadata": {},
   "outputs": [],
   "source": [
    "x = int(input())\n",
    "y = int(input())\n",
    "x = x % y\n",
    "x = x % y\n",
    "y = y % x\n"
   ]
  },
  {
   "cell_type": "code",
   "execution_count": 6,
   "metadata": {},
   "outputs": [
    {
     "name": "stdout",
     "output_type": "stream",
     "text": [
      "one\n"
     ]
    }
   ],
   "source": [
    "dct = {'one': 'two', 'three': 'one', 'two': 'three'}\n",
    "v = dct['three']\n",
    " \n",
    "for k in range(len(dct)):\n",
    "    v = dct[v]\n",
    " \n",
    "print(v)\n",
    " "
   ]
  },
  {
   "cell_type": "code",
   "execution_count": 9,
   "metadata": {},
   "outputs": [
    {
     "name": "stdout",
     "output_type": "stream",
     "text": [
      "[]\n"
     ]
    }
   ],
   "source": [
    "lst = [i for i in range(-1, -3)]\n",
    "print (lst)"
   ]
  },
  {
   "cell_type": "code",
   "execution_count": 11,
   "metadata": {},
   "outputs": [
    {
     "name": "stdout",
     "output_type": "stream",
     "text": [
      "0\n"
     ]
    }
   ],
   "source": [
    "def fun(x, y):\n",
    "    if x == y:\n",
    "        return x\n",
    "    else:\n",
    "        return fun(x, y-1)\n",
    " \n",
    " \n",
    "print(fun(0, 3))\n",
    " "
   ]
  },
  {
   "cell_type": "code",
   "execution_count": 14,
   "metadata": {},
   "outputs": [
    {
     "ename": "AttributeError",
     "evalue": "'dict' object has no attribute 'vals'",
     "output_type": "error",
     "traceback": [
      "\u001b[1;31m---------------------------------------------------------------------------\u001b[0m",
      "\u001b[1;31mAttributeError\u001b[0m                            Traceback (most recent call last)",
      "\u001b[1;32mc:\\Users\\Usuario\\Documents\\Programación\\Python Scripts\\comprobaciones.ipynb Cell 24\u001b[0m line \u001b[0;36m2\n\u001b[0;32m      <a href='vscode-notebook-cell:/c%3A/Users/Usuario/Documents/Programaci%C3%B3n/Python%20Scripts/comprobaciones.ipynb#X33sZmlsZQ%3D%3D?line=0'>1</a>\u001b[0m dd \u001b[39m=\u001b[39m {\u001b[39m\"\u001b[39m\u001b[39m1\u001b[39m\u001b[39m\"\u001b[39m: \u001b[39m\"\u001b[39m\u001b[39m0\u001b[39m\u001b[39m\"\u001b[39m, \u001b[39m\"\u001b[39m\u001b[39m0\u001b[39m\u001b[39m\"\u001b[39m: \u001b[39m\"\u001b[39m\u001b[39m1\u001b[39m\u001b[39m\"\u001b[39m}\n\u001b[1;32m----> <a href='vscode-notebook-cell:/c%3A/Users/Usuario/Documents/Programaci%C3%B3n/Python%20Scripts/comprobaciones.ipynb#X33sZmlsZQ%3D%3D?line=1'>2</a>\u001b[0m \u001b[39mfor\u001b[39;00m x \u001b[39min\u001b[39;00m dd\u001b[39m.\u001b[39;49mvals():\n\u001b[0;32m      <a href='vscode-notebook-cell:/c%3A/Users/Usuario/Documents/Programaci%C3%B3n/Python%20Scripts/comprobaciones.ipynb#X33sZmlsZQ%3D%3D?line=2'>3</a>\u001b[0m     \u001b[39mprint\u001b[39m(x, end\u001b[39m=\u001b[39m\u001b[39m\"\u001b[39m\u001b[39m\"\u001b[39m)\n",
      "\u001b[1;31mAttributeError\u001b[0m: 'dict' object has no attribute 'vals'"
     ]
    }
   ],
   "source": [
    "dd = {\"1\": \"0\", \"0\": \"1\"}\n",
    "for x in dd.vals():\n",
    "    print(x, end=\"\")\n",
    " "
   ]
  },
  {
   "cell_type": "code",
   "execution_count": 15,
   "metadata": {},
   "outputs": [
    {
     "name": "stdout",
     "output_type": "stream",
     "text": [
      "4\n"
     ]
    }
   ],
   "source": [
    "def fun(inp=2, out=3):\n",
    "    return inp * out\n",
    " \n",
    " \n",
    "print(fun(out=2))"
   ]
  },
  {
   "cell_type": "code",
   "execution_count": 16,
   "metadata": {},
   "outputs": [
    {
     "name": "stdout",
     "output_type": "stream",
     "text": [
      "[[0, 1, 2], [0, 1, 2], [0, 1, 2]]\n"
     ]
    }
   ],
   "source": [
    "lst = [[x for x in range(3)] for y in range(3)]\n",
    "print(lst)"
   ]
  },
  {
   "cell_type": "code",
   "execution_count": 17,
   "metadata": {},
   "outputs": [
    {
     "name": "stdout",
     "output_type": "stream",
     "text": [
      "0.0\n"
     ]
    }
   ],
   "source": [
    "try:\n",
    "    value = input(\"Ingresa un valor: \")\n",
    "    print(int(value)/len(value))\n",
    "except ValueError:\n",
    "    print(\"Entrada incorrecta...\")\n",
    "except ZeroDivisionError:\n",
    "    print(\"Entrada erronea...\")\n",
    "except TypeError:\n",
    "    print(\"Entrada muy erronea...\")\n",
    "except:\n",
    "    print(\"¡Buuu!\")\n",
    " "
   ]
  },
  {
   "cell_type": "code",
   "execution_count": 22,
   "metadata": {},
   "outputs": [
    {
     "ename": "SyntaxError",
     "evalue": "multiple exception types must be parenthesized (1004640928.py, line 5)",
     "output_type": "error",
     "traceback": [
      "\u001b[1;36m  Cell \u001b[1;32mIn[22], line 5\u001b[1;36m\u001b[0m\n\u001b[1;33m    except ValueError, ZeroDivisionError:\u001b[0m\n\u001b[1;37m           ^\u001b[0m\n\u001b[1;31mSyntaxError\u001b[0m\u001b[1;31m:\u001b[0m multiple exception types must be parenthesized\n"
     ]
    }
   ],
   "source": [
    "try:\n",
    "    print(5/0)\n",
    "except:\n",
    "    print(\"Lo siento, algo salió mal...\")\n",
    "except ValueError, ZeroDivisionError:\n",
    "    print(\"Mala suerte...\")\n"
   ]
  },
  {
   "cell_type": "code",
   "execution_count": 23,
   "metadata": {},
   "outputs": [
    {
     "ename": "SyntaxError",
     "evalue": "invalid character '¡' (U+00A1) (591644226.py, line 1)",
     "output_type": "error",
     "traceback": [
      "\u001b[1;36m  Cell \u001b[1;32mIn[23], line 1\u001b[1;36m\u001b[0m\n\u001b[1;33m    print(¡Hola, Mundo!)\u001b[0m\n\u001b[1;37m          ^\u001b[0m\n\u001b[1;31mSyntaxError\u001b[0m\u001b[1;31m:\u001b[0m invalid character '¡' (U+00A1)\n"
     ]
    }
   ],
   "source": [
    "print(¡Hola, Mundo!)\n"
   ]
  }
 ],
 "metadata": {
  "kernelspec": {
   "display_name": "Python 3",
   "language": "python",
   "name": "python3"
  },
  "language_info": {
   "codemirror_mode": {
    "name": "ipython",
    "version": 3
   },
   "file_extension": ".py",
   "mimetype": "text/x-python",
   "name": "python",
   "nbconvert_exporter": "python",
   "pygments_lexer": "ipython3",
   "version": "3.11.5"
  },
  "orig_nbformat": 4
 },
 "nbformat": 4,
 "nbformat_minor": 2
}
